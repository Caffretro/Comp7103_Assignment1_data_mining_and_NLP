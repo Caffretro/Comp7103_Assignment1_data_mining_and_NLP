{
 "cells": [
  {
   "attachments": {},
   "cell_type": "markdown",
   "metadata": {},
   "source": [
    "### Let's first see how this dataset look like"
   ]
  },
  {
   "cell_type": "code",
   "execution_count": 29,
   "metadata": {},
   "outputs": [
    {
     "data": {
      "text/plain": [
       "(100000, 11)"
      ]
     },
     "execution_count": 29,
     "metadata": {},
     "output_type": "execute_result"
    }
   ],
   "source": [
    "import pandas as pd\n",
    "import numpy as np\n",
    "import matplotlib.pyplot as plt\n",
    "\n",
    "reviews = pd.read_csv(\"data/fine_foods/sampled_fine_food_reviews.csv\")\n",
    "reviews.shape"
   ]
  },
  {
   "cell_type": "code",
   "execution_count": 30,
   "metadata": {},
   "outputs": [
    {
     "data": {
      "text/html": [
       "<div>\n",
       "<style scoped>\n",
       "    .dataframe tbody tr th:only-of-type {\n",
       "        vertical-align: middle;\n",
       "    }\n",
       "\n",
       "    .dataframe tbody tr th {\n",
       "        vertical-align: top;\n",
       "    }\n",
       "\n",
       "    .dataframe thead th {\n",
       "        text-align: right;\n",
       "    }\n",
       "</style>\n",
       "<table border=\"1\" class=\"dataframe\">\n",
       "  <thead>\n",
       "    <tr style=\"text-align: right;\">\n",
       "      <th></th>\n",
       "      <th>Unnamed: 0</th>\n",
       "      <th>Id</th>\n",
       "      <th>ProductId</th>\n",
       "      <th>UserId</th>\n",
       "      <th>HelpfulnessNumerator</th>\n",
       "      <th>HelpfulnessDenominator</th>\n",
       "      <th>Score</th>\n",
       "      <th>Time</th>\n",
       "      <th>Summary</th>\n",
       "      <th>Text</th>\n",
       "      <th>SummartAndText</th>\n",
       "    </tr>\n",
       "  </thead>\n",
       "  <tbody>\n",
       "    <tr>\n",
       "      <th>0</th>\n",
       "      <td>0</td>\n",
       "      <td>151584</td>\n",
       "      <td>B000HTFEVE</td>\n",
       "      <td>A1BQEGGHCBCRRQ</td>\n",
       "      <td>0</td>\n",
       "      <td>0</td>\n",
       "      <td>5</td>\n",
       "      <td>1332806400</td>\n",
       "      <td>My second-favorite gluten-free granola</td>\n",
       "      <td>Bakery on Main's Extreme Fruit &amp; Nut Granola h...</td>\n",
       "      <td>My second-favorite gluten-free granolaBakery o...</td>\n",
       "    </tr>\n",
       "    <tr>\n",
       "      <th>1</th>\n",
       "      <td>1</td>\n",
       "      <td>177982</td>\n",
       "      <td>B00099ZGFG</td>\n",
       "      <td>A2S3Z54BI73QIK</td>\n",
       "      <td>3</td>\n",
       "      <td>3</td>\n",
       "      <td>5</td>\n",
       "      <td>1197072000</td>\n",
       "      <td>Great lean snack - ostrich!</td>\n",
       "      <td>These meat snacks are fabulous and incredibly ...</td>\n",
       "      <td>Great lean snack - ostrich!These meat snacks a...</td>\n",
       "    </tr>\n",
       "    <tr>\n",
       "      <th>2</th>\n",
       "      <td>2</td>\n",
       "      <td>538490</td>\n",
       "      <td>B000E4ARCS</td>\n",
       "      <td>A3BX21NIPUDXS5</td>\n",
       "      <td>1</td>\n",
       "      <td>1</td>\n",
       "      <td>5</td>\n",
       "      <td>1291593600</td>\n",
       "      <td>Great product, excellent flavor</td>\n",
       "      <td>I bought this jerky to satisfy a craving that ...</td>\n",
       "      <td>Great product, excellent flavorI bought this j...</td>\n",
       "    </tr>\n",
       "    <tr>\n",
       "      <th>3</th>\n",
       "      <td>3</td>\n",
       "      <td>212032</td>\n",
       "      <td>B000CNB4LE</td>\n",
       "      <td>A1KZJ2Q8PKRIU6</td>\n",
       "      <td>0</td>\n",
       "      <td>0</td>\n",
       "      <td>1</td>\n",
       "      <td>1281312000</td>\n",
       "      <td>What did they do???</td>\n",
       "      <td>This product was great in the TetraPak.  Now i...</td>\n",
       "      <td>What did they do???This product was great in t...</td>\n",
       "    </tr>\n",
       "    <tr>\n",
       "      <th>4</th>\n",
       "      <td>4</td>\n",
       "      <td>197792</td>\n",
       "      <td>B0078Y6CN0</td>\n",
       "      <td>A2AZU4JHTWYRY5</td>\n",
       "      <td>0</td>\n",
       "      <td>0</td>\n",
       "      <td>4</td>\n",
       "      <td>1296950400</td>\n",
       "      <td>Guests tell me they love this coffee!</td>\n",
       "      <td>I'm allergic to coffee so I can't speak from p...</td>\n",
       "      <td>Guests tell me they love this coffee!I'm aller...</td>\n",
       "    </tr>\n",
       "  </tbody>\n",
       "</table>\n",
       "</div>"
      ],
      "text/plain": [
       "   Unnamed: 0      Id   ProductId          UserId  HelpfulnessNumerator  \\\n",
       "0           0  151584  B000HTFEVE  A1BQEGGHCBCRRQ                     0   \n",
       "1           1  177982  B00099ZGFG  A2S3Z54BI73QIK                     3   \n",
       "2           2  538490  B000E4ARCS  A3BX21NIPUDXS5                     1   \n",
       "3           3  212032  B000CNB4LE  A1KZJ2Q8PKRIU6                     0   \n",
       "4           4  197792  B0078Y6CN0  A2AZU4JHTWYRY5                     0   \n",
       "\n",
       "   HelpfulnessDenominator  Score        Time  \\\n",
       "0                       0      5  1332806400   \n",
       "1                       3      5  1197072000   \n",
       "2                       1      5  1291593600   \n",
       "3                       0      1  1281312000   \n",
       "4                       0      4  1296950400   \n",
       "\n",
       "                                  Summary  \\\n",
       "0  My second-favorite gluten-free granola   \n",
       "1             Great lean snack - ostrich!   \n",
       "2         Great product, excellent flavor   \n",
       "3                     What did they do???   \n",
       "4   Guests tell me they love this coffee!   \n",
       "\n",
       "                                                Text  \\\n",
       "0  Bakery on Main's Extreme Fruit & Nut Granola h...   \n",
       "1  These meat snacks are fabulous and incredibly ...   \n",
       "2  I bought this jerky to satisfy a craving that ...   \n",
       "3  This product was great in the TetraPak.  Now i...   \n",
       "4  I'm allergic to coffee so I can't speak from p...   \n",
       "\n",
       "                                      SummartAndText  \n",
       "0  My second-favorite gluten-free granolaBakery o...  \n",
       "1  Great lean snack - ostrich!These meat snacks a...  \n",
       "2  Great product, excellent flavorI bought this j...  \n",
       "3  What did they do???This product was great in t...  \n",
       "4  Guests tell me they love this coffee!I'm aller...  "
      ]
     },
     "execution_count": 30,
     "metadata": {},
     "output_type": "execute_result"
    }
   ],
   "source": [
    "reviews.head()"
   ]
  },
  {
   "attachments": {},
   "cell_type": "markdown",
   "metadata": {},
   "source": [
    "### Cool, let's see the value distribution of user rated scores (1 - 5 stars)"
   ]
  },
  {
   "cell_type": "code",
   "execution_count": 31,
   "metadata": {},
   "outputs": [
    {
     "data": {
      "text/plain": [
       "(array([ 9285.,  5235.,  7678., 13972., 63830.]),\n",
       " array([0.5, 1.5, 2.5, 3.5, 4.5, 5.5]),\n",
       " <BarContainer object of 5 artists>)"
      ]
     },
     "execution_count": 31,
     "metadata": {},
     "output_type": "execute_result"
    },
    {
     "data": {
      "image/png": "[encoded data removed]",
      "text/plain": [
       "<Figure size 640x480 with 1 Axes>"
      ]
     },
     "metadata": {},
     "output_type": "display_data"
    }
   ],
   "source": [
    "plt.hist(reviews['Score'], bins=5, range=(0.5, 5.5), rwidth=0.7)"
   ]
  },
  {
   "attachments": {},
   "cell_type": "markdown",
   "metadata": {},
   "source": [
    "### More than just the subjective ratings given by a user, we also want to see how others value each user's comment. Thus, let's filter the dataset to keep the reviews that have useful/notuseful votes"
   ]
  },
  {
   "cell_type": "code",
   "execution_count": 37,
   "metadata": {},
   "outputs": [
    {
     "data": {
      "text/plain": [
       "(52745, 11)"
      ]
     },
     "execution_count": 37,
     "metadata": {},
     "output_type": "execute_result"
    }
   ],
   "source": [
    "useful_reviews = reviews.loc[reviews['HelpfulnessDenominator'] != 0]\n",
    "useful_reviews.shape"
   ]
  },
  {
   "cell_type": "code",
   "execution_count": 60,
   "metadata": {},
   "outputs": [
    {
     "name": "stderr",
     "output_type": "stream",
     "text": [
      "/var/folders/k2/7hr6hcfd5v58p9nhhf_brbbm0000gn/T/ipykernel_35777/2821050564.py:1: SettingWithCopyWarning: \n",
      "A value is trying to be set on a copy of a slice from a DataFrame.\n",
      "Try using .loc[row_indexer,col_indexer] = value instead\n",
      "\n",
      "See the caveats in the documentation: https://pandas.pydata.org/pandas-docs/stable/user_guide/indexing.html#returning-a-view-versus-a-copy\n",
      "  useful_reviews['HelpfulPortion'] = useful_reviews['HelpfulnessNumerator'] / useful_reviews['HelpfulnessDenominator']\n"
     ]
    },
    {
     "data": {
      "text/html": [
       "<div>\n",
       "<style scoped>\n",
       "    .dataframe tbody tr th:only-of-type {\n",
       "        vertical-align: middle;\n",
       "    }\n",
       "\n",
       "    .dataframe tbody tr th {\n",
       "        vertical-align: top;\n",
       "    }\n",
       "\n",
       "    .dataframe thead th {\n",
       "        text-align: right;\n",
       "    }\n",
       "</style>\n",
       "<table border=\"1\" class=\"dataframe\">\n",
       "  <thead>\n",
       "    <tr style=\"text-align: right;\">\n",
       "      <th></th>\n",
       "      <th>Unnamed: 0</th>\n",
       "      <th>Id</th>\n",
       "      <th>ProductId</th>\n",
       "      <th>UserId</th>\n",
       "      <th>HelpfulnessNumerator</th>\n",
       "      <th>HelpfulnessDenominator</th>\n",
       "      <th>Score</th>\n",
       "      <th>Time</th>\n",
       "      <th>Summary</th>\n",
       "      <th>Text</th>\n",
       "      <th>SummartAndText</th>\n",
       "      <th>HelpfulPortion</th>\n",
       "    </tr>\n",
       "  </thead>\n",
       "  <tbody>\n",
       "    <tr>\n",
       "      <th>1</th>\n",
       "      <td>1</td>\n",
       "      <td>177982</td>\n",
       "      <td>B00099ZGFG</td>\n",
       "      <td>A2S3Z54BI73QIK</td>\n",
       "      <td>3</td>\n",
       "      <td>3</td>\n",
       "      <td>5</td>\n",
       "      <td>1197072000</td>\n",
       "      <td>Great lean snack - ostrich!</td>\n",
       "      <td>These meat snacks are fabulous and incredibly ...</td>\n",
       "      <td>Great lean snack - ostrich!These meat snacks a...</td>\n",
       "      <td>1.0</td>\n",
       "    </tr>\n",
       "    <tr>\n",
       "      <th>2</th>\n",
       "      <td>2</td>\n",
       "      <td>538490</td>\n",
       "      <td>B000E4ARCS</td>\n",
       "      <td>A3BX21NIPUDXS5</td>\n",
       "      <td>1</td>\n",
       "      <td>1</td>\n",
       "      <td>5</td>\n",
       "      <td>1291593600</td>\n",
       "      <td>Great product, excellent flavor</td>\n",
       "      <td>I bought this jerky to satisfy a craving that ...</td>\n",
       "      <td>Great product, excellent flavorI bought this j...</td>\n",
       "      <td>1.0</td>\n",
       "    </tr>\n",
       "    <tr>\n",
       "      <th>5</th>\n",
       "      <td>5</td>\n",
       "      <td>245284</td>\n",
       "      <td>B0029XDZKI</td>\n",
       "      <td>A2WC9NFLG57W4H</td>\n",
       "      <td>1</td>\n",
       "      <td>2</td>\n",
       "      <td>3</td>\n",
       "      <td>1266451200</td>\n",
       "      <td>Not the richest coffee or hazelnut flavor  ehh...</td>\n",
       "      <td>I LOVE flavored coffee. I now drink it black w...</td>\n",
       "      <td>Not the richest coffee or hazelnut flavor  ehh...</td>\n",
       "      <td>0.5</td>\n",
       "    </tr>\n",
       "    <tr>\n",
       "      <th>10</th>\n",
       "      <td>10</td>\n",
       "      <td>302292</td>\n",
       "      <td>B000GPRNGS</td>\n",
       "      <td>A33REC3J2JU2EL</td>\n",
       "      <td>1</td>\n",
       "      <td>2</td>\n",
       "      <td>5</td>\n",
       "      <td>1257552000</td>\n",
       "      <td>Yummy and Great Texture</td>\n",
       "      <td>I've been eating brown rice for the last coupl...</td>\n",
       "      <td>Yummy and Great TextureI've been eating brown ...</td>\n",
       "      <td>0.5</td>\n",
       "    </tr>\n",
       "    <tr>\n",
       "      <th>11</th>\n",
       "      <td>11</td>\n",
       "      <td>387921</td>\n",
       "      <td>B007RTR8UW</td>\n",
       "      <td>A2TBAUW2W7J538</td>\n",
       "      <td>0</td>\n",
       "      <td>1</td>\n",
       "      <td>5</td>\n",
       "      <td>1345680000</td>\n",
       "      <td>Love it!</td>\n",
       "      <td>I don't have long hair, but love this conditio...</td>\n",
       "      <td>Love it!I don't have long hair, but love this ...</td>\n",
       "      <td>0.0</td>\n",
       "    </tr>\n",
       "  </tbody>\n",
       "</table>\n",
       "</div>"
      ],
      "text/plain": [
       "    Unnamed: 0      Id   ProductId          UserId  HelpfulnessNumerator  \\\n",
       "1            1  177982  B00099ZGFG  A2S3Z54BI73QIK                     3   \n",
       "2            2  538490  B000E4ARCS  A3BX21NIPUDXS5                     1   \n",
       "5            5  245284  B0029XDZKI  A2WC9NFLG57W4H                     1   \n",
       "10          10  302292  B000GPRNGS  A33REC3J2JU2EL                     1   \n",
       "11          11  387921  B007RTR8UW  A2TBAUW2W7J538                     0   \n",
       "\n",
       "    HelpfulnessDenominator  Score        Time  \\\n",
       "1                        3      5  1197072000   \n",
       "2                        1      5  1291593600   \n",
       "5                        2      3  1266451200   \n",
       "10                       2      5  1257552000   \n",
       "11                       1      5  1345680000   \n",
       "\n",
       "                                              Summary  \\\n",
       "1                         Great lean snack - ostrich!   \n",
       "2                     Great product, excellent flavor   \n",
       "5   Not the richest coffee or hazelnut flavor  ehh...   \n",
       "10                            Yummy and Great Texture   \n",
       "11                                           Love it!   \n",
       "\n",
       "                                                 Text  \\\n",
       "1   These meat snacks are fabulous and incredibly ...   \n",
       "2   I bought this jerky to satisfy a craving that ...   \n",
       "5   I LOVE flavored coffee. I now drink it black w...   \n",
       "10  I've been eating brown rice for the last coupl...   \n",
       "11  I don't have long hair, but love this conditio...   \n",
       "\n",
       "                                       SummartAndText  HelpfulPortion  \n",
       "1   Great lean snack - ostrich!These meat snacks a...             1.0  \n",
       "2   Great product, excellent flavorI bought this j...             1.0  \n",
       "5   Not the richest coffee or hazelnut flavor  ehh...             0.5  \n",
       "10  Yummy and Great TextureI've been eating brown ...             0.5  \n",
       "11  Love it!I don't have long hair, but love this ...             0.0  "
      ]
     },
     "execution_count": 60,
     "metadata": {},
     "output_type": "execute_result"
    }
   ],
   "source": [
    "useful_reviews['HelpfulPortion'] = useful_reviews['HelpfulnessNumerator'] / useful_reviews['HelpfulnessDenominator']\n",
    "useful_reviews.head()"
   ]
  },
  {
   "cell_type": "code",
   "execution_count": 55,
   "metadata": {},
   "outputs": [
    {
     "data": {
      "text/plain": [
       "Text(0.5, 1.0, 'Useful votes vs. Total votes')"
      ]
     },
     "execution_count": 55,
     "metadata": {},
     "output_type": "execute_result"
    },
    {
     "data": {
      "image/png": "[encoded data removed]",
      "text/plain": [
       "<Figure size 800x800 with 1 Axes>"
      ]
     },
     "metadata": {},
     "output_type": "display_data"
    }
   ],
   "source": [
    "plt.figure(figsize=(8, 8))\n",
    "plt.scatter(useful_reviews['HelpfulnessDenominator'], useful_reviews['HelpfulnessNumerator'], c=['red' if x < 0.7 else 'blue' for x in useful_reviews['HelpfulPortion']])\n",
    "plt.ylabel('Useful votes for certain comments')\n",
    "plt.xlabel('Total number of votes for certain reviews')\n",
    "plt.title('Useful votes vs. Total votes')\n"
   ]
  },
  {
   "attachments": {},
   "cell_type": "markdown",
   "metadata": {},
   "source": [
    "We can see that most reviews that received votes have positive feedbacks, while some reviews have received less than 70% useful votes.\n",
    "\n",
    "Let's see the content of an example among the 'outlier' examples"
   ]
  },
  {
   "cell_type": "code",
   "execution_count": 78,
   "metadata": {},
   "outputs": [
    {
     "data": {
      "text/html": [
       "<div>\n",
       "<style scoped>\n",
       "    .dataframe tbody tr th:only-of-type {\n",
       "        vertical-align: middle;\n",
       "    }\n",
       "\n",
       "    .dataframe tbody tr th {\n",
       "        vertical-align: top;\n",
       "    }\n",
       "\n",
       "    .dataframe thead th {\n",
       "        text-align: right;\n",
       "    }\n",
       "</style>\n",
       "<table border=\"1\" class=\"dataframe\">\n",
       "  <thead>\n",
       "    <tr style=\"text-align: right;\">\n",
       "      <th></th>\n",
       "      <th>Unnamed: 0</th>\n",
       "      <th>Id</th>\n",
       "      <th>ProductId</th>\n",
       "      <th>UserId</th>\n",
       "      <th>HelpfulnessNumerator</th>\n",
       "      <th>HelpfulnessDenominator</th>\n",
       "      <th>Score</th>\n",
       "      <th>Time</th>\n",
       "      <th>Summary</th>\n",
       "      <th>Text</th>\n",
       "      <th>SummartAndText</th>\n",
       "      <th>HelpfulPortion</th>\n",
       "    </tr>\n",
       "  </thead>\n",
       "  <tbody>\n",
       "    <tr>\n",
       "      <th>287</th>\n",
       "      <td>287</td>\n",
       "      <td>39098</td>\n",
       "      <td>B004I6BMWW</td>\n",
       "      <td>A3HXIIRWL92LID</td>\n",
       "      <td>3</td>\n",
       "      <td>38</td>\n",
       "      <td>5</td>\n",
       "      <td>1329004800</td>\n",
       "      <td>Based on beef being grass fed however . . .</td>\n",
       "      <td>the other ingredients are not so healthy and u...</td>\n",
       "      <td>Based on beef being grass fed however . . .the...</td>\n",
       "      <td>0.078947</td>\n",
       "    </tr>\n",
       "    <tr>\n",
       "      <th>534</th>\n",
       "      <td>534</td>\n",
       "      <td>207709</td>\n",
       "      <td>B00012182G</td>\n",
       "      <td>A3UOX55BPNUNHL</td>\n",
       "      <td>1</td>\n",
       "      <td>26</td>\n",
       "      <td>1</td>\n",
       "      <td>1348272000</td>\n",
       "      <td>PEOPLE!!!</td>\n",
       "      <td>THIS IS A RABBIT.&lt;br /&gt;&lt;br /&gt;THIS IS A DEAD RA...</td>\n",
       "      <td>PEOPLE!!!THIS IS A RABBIT.&lt;br /&gt;&lt;br /&gt;THIS IS ...</td>\n",
       "      <td>0.038462</td>\n",
       "    </tr>\n",
       "    <tr>\n",
       "      <th>672</th>\n",
       "      <td>672</td>\n",
       "      <td>444290</td>\n",
       "      <td>B000LKZ0R2</td>\n",
       "      <td>A32GZYO5BOKNIW</td>\n",
       "      <td>5</td>\n",
       "      <td>18</td>\n",
       "      <td>1</td>\n",
       "      <td>1297123200</td>\n",
       "      <td>CHOCK FULL OF MONSANTO GMO's</td>\n",
       "      <td>I try NOT to eat GMO foods, which are genetica...</td>\n",
       "      <td>CHOCK FULL OF MONSANTO GMO'sI try NOT to eat G...</td>\n",
       "      <td>0.277778</td>\n",
       "    </tr>\n",
       "    <tr>\n",
       "      <th>1517</th>\n",
       "      <td>1517</td>\n",
       "      <td>155713</td>\n",
       "      <td>B0009VO58S</td>\n",
       "      <td>A3TJPSWY2HE4BS</td>\n",
       "      <td>1</td>\n",
       "      <td>24</td>\n",
       "      <td>2</td>\n",
       "      <td>1173312000</td>\n",
       "      <td>NaN</td>\n",
       "      <td>I only used two maybe three tea bags and got p...</td>\n",
       "      <td>NaN</td>\n",
       "      <td>0.041667</td>\n",
       "    </tr>\n",
       "    <tr>\n",
       "      <th>1853</th>\n",
       "      <td>1853</td>\n",
       "      <td>338519</td>\n",
       "      <td>B000W77S60</td>\n",
       "      <td>AT676YYI560</td>\n",
       "      <td>5</td>\n",
       "      <td>26</td>\n",
       "      <td>5</td>\n",
       "      <td>1182988800</td>\n",
       "      <td>5 Stars</td>\n",
       "      <td>I haven't tried this product yet, but I am giv...</td>\n",
       "      <td>5 StarsI haven't tried this product yet, but I...</td>\n",
       "      <td>0.192308</td>\n",
       "    </tr>\n",
       "    <tr>\n",
       "      <th>...</th>\n",
       "      <td>...</td>\n",
       "      <td>...</td>\n",
       "      <td>...</td>\n",
       "      <td>...</td>\n",
       "      <td>...</td>\n",
       "      <td>...</td>\n",
       "      <td>...</td>\n",
       "      <td>...</td>\n",
       "      <td>...</td>\n",
       "      <td>...</td>\n",
       "      <td>...</td>\n",
       "      <td>...</td>\n",
       "    </tr>\n",
       "    <tr>\n",
       "      <th>98018</th>\n",
       "      <td>98018</td>\n",
       "      <td>292213</td>\n",
       "      <td>B000VK08OC</td>\n",
       "      <td>AFODIM6DTR994</td>\n",
       "      <td>3</td>\n",
       "      <td>16</td>\n",
       "      <td>3</td>\n",
       "      <td>1265155200</td>\n",
       "      <td>Medicinal Taste</td>\n",
       "      <td>i essentially wanted honey as a sugar substitu...</td>\n",
       "      <td>Medicinal Tastei essentially wanted honey as a...</td>\n",
       "      <td>0.187500</td>\n",
       "    </tr>\n",
       "    <tr>\n",
       "      <th>98416</th>\n",
       "      <td>98416</td>\n",
       "      <td>134236</td>\n",
       "      <td>B00120U5DY</td>\n",
       "      <td>A16MB0H009K4L9</td>\n",
       "      <td>1</td>\n",
       "      <td>19</td>\n",
       "      <td>1</td>\n",
       "      <td>1291248000</td>\n",
       "      <td>NO CUSTOMER SERVICE AT ALL!!!! IGNORE MY CANCE...</td>\n",
       "      <td>IDIOT. I TOLD YOU TWICE I WANT TO CANCEL THE O...</td>\n",
       "      <td>NO CUSTOMER SERVICE AT ALL!!!! IGNORE MY CANCE...</td>\n",
       "      <td>0.052632</td>\n",
       "    </tr>\n",
       "    <tr>\n",
       "      <th>98910</th>\n",
       "      <td>98910</td>\n",
       "      <td>72881</td>\n",
       "      <td>B000EF3FU8</td>\n",
       "      <td>A3PCQTKXYX17DG</td>\n",
       "      <td>0</td>\n",
       "      <td>16</td>\n",
       "      <td>2</td>\n",
       "      <td>1219017600</td>\n",
       "      <td>Yurgh!</td>\n",
       "      <td>Tried the \"American Idol\" edition with printed...</td>\n",
       "      <td>Yurgh!Tried the \"American Idol\" edition with p...</td>\n",
       "      <td>0.000000</td>\n",
       "    </tr>\n",
       "    <tr>\n",
       "      <th>99098</th>\n",
       "      <td>99098</td>\n",
       "      <td>161064</td>\n",
       "      <td>B003OGKCDC</td>\n",
       "      <td>AODCU0S0TRYHL</td>\n",
       "      <td>3</td>\n",
       "      <td>30</td>\n",
       "      <td>1</td>\n",
       "      <td>1329955200</td>\n",
       "      <td>ripoff</td>\n",
       "      <td>First time buyer!  Product arrived and I opene...</td>\n",
       "      <td>ripoffFirst time buyer!  Product arrived and I...</td>\n",
       "      <td>0.100000</td>\n",
       "    </tr>\n",
       "    <tr>\n",
       "      <th>99556</th>\n",
       "      <td>99556</td>\n",
       "      <td>31214</td>\n",
       "      <td>B007M83302</td>\n",
       "      <td>A1FSZILKM1W3NN</td>\n",
       "      <td>4</td>\n",
       "      <td>16</td>\n",
       "      <td>1</td>\n",
       "      <td>1238284800</td>\n",
       "      <td>Terrible</td>\n",
       "      <td>These chips (all flavors of the variety pack) ...</td>\n",
       "      <td>TerribleThese chips (all flavors of the variet...</td>\n",
       "      <td>0.250000</td>\n",
       "    </tr>\n",
       "  </tbody>\n",
       "</table>\n",
       "<p>225 rows × 12 columns</p>\n",
       "</div>"
      ],
      "text/plain": [
       "       Unnamed: 0      Id   ProductId          UserId  HelpfulnessNumerator  \\\n",
       "287           287   39098  B004I6BMWW  A3HXIIRWL92LID                     3   \n",
       "534           534  207709  B00012182G  A3UOX55BPNUNHL                     1   \n",
       "672           672  444290  B000LKZ0R2  A32GZYO5BOKNIW                     5   \n",
       "1517         1517  155713  B0009VO58S  A3TJPSWY2HE4BS                     1   \n",
       "1853         1853  338519  B000W77S60     AT676YYI560                     5   \n",
       "...           ...     ...         ...             ...                   ...   \n",
       "98018       98018  292213  B000VK08OC   AFODIM6DTR994                     3   \n",
       "98416       98416  134236  B00120U5DY  A16MB0H009K4L9                     1   \n",
       "98910       98910   72881  B000EF3FU8  A3PCQTKXYX17DG                     0   \n",
       "99098       99098  161064  B003OGKCDC   AODCU0S0TRYHL                     3   \n",
       "99556       99556   31214  B007M83302  A1FSZILKM1W3NN                     4   \n",
       "\n",
       "       HelpfulnessDenominator  Score        Time  \\\n",
       "287                        38      5  1329004800   \n",
       "534                        26      1  1348272000   \n",
       "672                        18      1  1297123200   \n",
       "1517                       24      2  1173312000   \n",
       "1853                       26      5  1182988800   \n",
       "...                       ...    ...         ...   \n",
       "98018                      16      3  1265155200   \n",
       "98416                      19      1  1291248000   \n",
       "98910                      16      2  1219017600   \n",
       "99098                      30      1  1329955200   \n",
       "99556                      16      1  1238284800   \n",
       "\n",
       "                                                 Summary  \\\n",
       "287          Based on beef being grass fed however . . .   \n",
       "534                                            PEOPLE!!!   \n",
       "672                         CHOCK FULL OF MONSANTO GMO's   \n",
       "1517                                                 NaN   \n",
       "1853                                             5 Stars   \n",
       "...                                                  ...   \n",
       "98018                                    Medicinal Taste   \n",
       "98416  NO CUSTOMER SERVICE AT ALL!!!! IGNORE MY CANCE...   \n",
       "98910                                             Yurgh!   \n",
       "99098                                             ripoff   \n",
       "99556                                           Terrible   \n",
       "\n",
       "                                                    Text  \\\n",
       "287    the other ingredients are not so healthy and u...   \n",
       "534    THIS IS A RABBIT.<br /><br />THIS IS A DEAD RA...   \n",
       "672    I try NOT to eat GMO foods, which are genetica...   \n",
       "1517   I only used two maybe three tea bags and got p...   \n",
       "1853   I haven't tried this product yet, but I am giv...   \n",
       "...                                                  ...   \n",
       "98018  i essentially wanted honey as a sugar substitu...   \n",
       "98416  IDIOT. I TOLD YOU TWICE I WANT TO CANCEL THE O...   \n",
       "98910  Tried the \"American Idol\" edition with printed...   \n",
       "99098  First time buyer!  Product arrived and I opene...   \n",
       "99556  These chips (all flavors of the variety pack) ...   \n",
       "\n",
       "                                          SummartAndText  HelpfulPortion  \n",
       "287    Based on beef being grass fed however . . .the...        0.078947  \n",
       "534    PEOPLE!!!THIS IS A RABBIT.<br /><br />THIS IS ...        0.038462  \n",
       "672    CHOCK FULL OF MONSANTO GMO'sI try NOT to eat G...        0.277778  \n",
       "1517                                                 NaN        0.041667  \n",
       "1853   5 StarsI haven't tried this product yet, but I...        0.192308  \n",
       "...                                                  ...             ...  \n",
       "98018  Medicinal Tastei essentially wanted honey as a...        0.187500  \n",
       "98416  NO CUSTOMER SERVICE AT ALL!!!! IGNORE MY CANCE...        0.052632  \n",
       "98910  Yurgh!Tried the \"American Idol\" edition with p...        0.000000  \n",
       "99098  ripoffFirst time buyer!  Product arrived and I...        0.100000  \n",
       "99556  TerribleThese chips (all flavors of the variet...        0.250000  \n",
       "\n",
       "[225 rows x 12 columns]"
      ]
     },
     "execution_count": 78,
     "metadata": {},
     "output_type": "execute_result"
    }
   ],
   "source": [
    "not_useful_reviews = useful_reviews.loc[(useful_reviews['HelpfulPortion'] < 0.3) & (useful_reviews['HelpfulnessDenominator'] > 15.0)]\n",
    "not_useful_reviews"
   ]
  },
  {
   "cell_type": "code",
   "execution_count": 95,
   "metadata": {},
   "outputs": [
    {
     "name": "stdout",
     "output_type": "stream",
     "text": [
      "Total votes: 26, useful votes: 5\n",
      "['5 Stars']\n",
      "[\"I haven't tried this product yet, but I am giving this company 5 stars for their prompt and fast service!\"]\n"
     ]
    }
   ],
   "source": [
    "example1 = not_useful_reviews.loc[not_useful_reviews['UserId'] == 'AT676YYI560']\n",
    "print('Total votes: {}, useful votes: {}'.format(example1['HelpfulnessDenominator'].values[0], example1['HelpfulnessNumerator'].values[0]))\n",
    "print(example1['Summary'].values)\n",
    "print(example1['Text'].values)"
   ]
  },
  {
   "attachments": {},
   "cell_type": "markdown",
   "metadata": {},
   "source": [
    "This review is voted not useful most likely because it did not reflect information on the product quality. Delievery service quality may vary, and other users might want to learn more about the product."
   ]
  },
  {
   "cell_type": "code",
   "execution_count": 94,
   "metadata": {},
   "outputs": [
    {
     "name": "stdout",
     "output_type": "stream",
     "text": [
      "Total votes: 19, useful votes: 1\n",
      "['NO CUSTOMER SERVICE AT ALL!!!! IGNORE MY CANCEL REQUEST!!']\n",
      "['IDIOT. I TOLD YOU TWICE I WANT TO CANCEL THE ORDER. YOU BASICALLY JUST IGNORED MY REQUEST AND SENT ME THE ITEM.']\n"
     ]
    }
   ],
   "source": [
    "example2 = not_useful_reviews.loc[not_useful_reviews['UserId'] == 'A16MB0H009K4L9']\n",
    "print('Total votes: {}, useful votes: {}'.format(example2['HelpfulnessDenominator'].values[0], example2['HelpfulnessNumerator'].values[0]))\n",
    "print(example2['Summary'].values)\n",
    "print(example2['Text'].values)"
   ]
  },
  {
   "attachments": {},
   "cell_type": "markdown",
   "metadata": {},
   "source": [
    "Totally capitalized, delievering strong negative emotion, and not reflecting enough information on the product itself"
   ]
  },
  {
   "attachments": {},
   "cell_type": "markdown",
   "metadata": {},
   "source": [
    "### What about the relationship between score and usefulness? Let's try a scatterplot again"
   ]
  },
  {
   "cell_type": "code",
   "execution_count": 117,
   "metadata": {},
   "outputs": [
    {
     "data": {
      "text/plain": [
       "Text(0.5, 1.0, 'Useful votes vs. Total votes')"
      ]
     },
     "execution_count": 117,
     "metadata": {},
     "output_type": "execute_result"
    },
    {
     "data": {
      "image/png": "[encoded data removed]",
      "text/plain": [
       "<Figure size 1600x800 with 1 Axes>"
      ]
     },
     "metadata": {},
     "output_type": "display_data"
    }
   ],
   "source": [
    "plt.figure(figsize=(16, 8))\n",
    "plt.scatter(useful_reviews['HelpfulPortion'], useful_reviews['Score'], c=['red' if x < 0.5 else 'blue' for x in useful_reviews['HelpfulPortion']])\n",
    "plt.xlabel('review\\'s helpfulness')\n",
    "plt.ylabel('Review score given by user')\n",
    "plt.xlim((-0.02, 1.02))\n",
    "plt.title('Useful votes vs. Total votes')\n"
   ]
  },
  {
   "attachments": {},
   "cell_type": "markdown",
   "metadata": {},
   "source": [
    "For user scores above 2, it seems like more people would vote 'useful' for that vote. For reviews that gave only score value of 1, the portion of other users who thinks this negative review is not useful increases a lot."
   ]
  },
  {
   "cell_type": "code",
   "execution_count": null,
   "metadata": {},
   "outputs": [],
   "source": []
  }
 ],
 "metadata": {
  "kernelspec": {
   "display_name": "comp7103",
   "language": "python",
   "name": "python3"
  },
  "language_info": {
   "codemirror_mode": {
    "name": "ipython",
    "version": 3
   },
   "file_extension": ".py",
   "mimetype": "text/x-python",
   "name": "python",
   "nbconvert_exporter": "python",
   "pygments_lexer": "ipython3",
   "version": "3.9.16"
  },
  "orig_nbformat": 4
 },
 "nbformat": 4,
 "nbformat_minor": 2
}
