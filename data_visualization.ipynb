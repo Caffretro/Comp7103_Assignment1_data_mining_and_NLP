{
 "cells": [
  {
   "attachments": {},
   "cell_type": "markdown",
   "metadata": {},
   "source": [
    "### Let's first see how this dataset look like"
   ]
  },
  {
   "cell_type": "code",
   "execution_count": 121,
   "metadata": {},
   "outputs": [
    {
     "data": {
      "text/plain": [
       "(25000, 11)"
      ]
     },
     "execution_count": 121,
     "metadata": {},
     "output_type": "execute_result"
    }
   ],
   "source": [
    "import pandas as pd\n",
    "import numpy as np\n",
    "import matplotlib.pyplot as plt\n",
    "\n",
    "reviews = pd.read_csv(\"data/fine_foods/0.05_sampled_fine_food_reviews.csv\")\n",
    "reviews.shape"
   ]
  },
  {
   "cell_type": "code",
   "execution_count": 122,
   "metadata": {},
   "outputs": [
    {
     "data": {
      "text/html": [
       "<div>\n",
       "<style scoped>\n",
       "    .dataframe tbody tr th:only-of-type {\n",
       "        vertical-align: middle;\n",
       "    }\n",
       "\n",
       "    .dataframe tbody tr th {\n",
       "        vertical-align: top;\n",
       "    }\n",
       "\n",
       "    .dataframe thead th {\n",
       "        text-align: right;\n",
       "    }\n",
       "</style>\n",
       "<table border=\"1\" class=\"dataframe\">\n",
       "  <thead>\n",
       "    <tr style=\"text-align: right;\">\n",
       "      <th></th>\n",
       "      <th>Unnamed: 0</th>\n",
       "      <th>Id</th>\n",
       "      <th>ProductId</th>\n",
       "      <th>UserId</th>\n",
       "      <th>HelpfulnessNumerator</th>\n",
       "      <th>HelpfulnessDenominator</th>\n",
       "      <th>Score</th>\n",
       "      <th>Time</th>\n",
       "      <th>Summary</th>\n",
       "      <th>Text</th>\n",
       "      <th>SummartAndText</th>\n",
       "    </tr>\n",
       "  </thead>\n",
       "  <tbody>\n",
       "    <tr>\n",
       "      <th>0</th>\n",
       "      <td>0</td>\n",
       "      <td>321334</td>\n",
       "      <td>B008RWUHA6</td>\n",
       "      <td>A30JPZ9TZ7I61U</td>\n",
       "      <td>1</td>\n",
       "      <td>1</td>\n",
       "      <td>5</td>\n",
       "      <td>1321488000</td>\n",
       "      <td>Tasty, healthy, and perfect for vegans ~</td>\n",
       "      <td>So despite this saying low-glycemic, it actual...</td>\n",
       "      <td>Tasty, healthy, and perfect for vegans ~So des...</td>\n",
       "    </tr>\n",
       "    <tr>\n",
       "      <th>1</th>\n",
       "      <td>1</td>\n",
       "      <td>543019</td>\n",
       "      <td>B00897UVVE</td>\n",
       "      <td>A3HEGKD16C4WZS</td>\n",
       "      <td>1</td>\n",
       "      <td>1</td>\n",
       "      <td>5</td>\n",
       "      <td>1343088000</td>\n",
       "      <td>Authentic</td>\n",
       "      <td>This is the real deal, not some cheap coffee p...</td>\n",
       "      <td>AuthenticThis is the real deal, not some cheap...</td>\n",
       "    </tr>\n",
       "    <tr>\n",
       "      <th>2</th>\n",
       "      <td>2</td>\n",
       "      <td>299018</td>\n",
       "      <td>B004AUKLCI</td>\n",
       "      <td>A2QZUDPHCF6YRR</td>\n",
       "      <td>2</td>\n",
       "      <td>2</td>\n",
       "      <td>5</td>\n",
       "      <td>1342310400</td>\n",
       "      <td>sweet nut and fruit gift</td>\n",
       "      <td>The item arrived as scheduled in excellent con...</td>\n",
       "      <td>sweet nut and fruit giftThe item arrived as sc...</td>\n",
       "    </tr>\n",
       "    <tr>\n",
       "      <th>3</th>\n",
       "      <td>3</td>\n",
       "      <td>357399</td>\n",
       "      <td>B001CJE4IC</td>\n",
       "      <td>A23TISZZ4Y937H</td>\n",
       "      <td>1</td>\n",
       "      <td>1</td>\n",
       "      <td>5</td>\n",
       "      <td>1282694400</td>\n",
       "      <td>Nice large box</td>\n",
       "      <td>This was for my mother who will only chew Chic...</td>\n",
       "      <td>Nice large boxThis was for my mother who will ...</td>\n",
       "    </tr>\n",
       "    <tr>\n",
       "      <th>4</th>\n",
       "      <td>4</td>\n",
       "      <td>154408</td>\n",
       "      <td>B00474GNY2</td>\n",
       "      <td>A2UGL97SELRWT9</td>\n",
       "      <td>0</td>\n",
       "      <td>0</td>\n",
       "      <td>4</td>\n",
       "      <td>1316822400</td>\n",
       "      <td>Good Buddy Aloe and Oatmeal Shampoo</td>\n",
       "      <td>My dog had problems with skin allergies for ye...</td>\n",
       "      <td>Good Buddy Aloe and Oatmeal ShampooMy dog had ...</td>\n",
       "    </tr>\n",
       "  </tbody>\n",
       "</table>\n",
       "</div>"
      ],
      "text/plain": [
       "   Unnamed: 0      Id   ProductId          UserId  HelpfulnessNumerator  \\\n",
       "0           0  321334  B008RWUHA6  A30JPZ9TZ7I61U                     1   \n",
       "1           1  543019  B00897UVVE  A3HEGKD16C4WZS                     1   \n",
       "2           2  299018  B004AUKLCI  A2QZUDPHCF6YRR                     2   \n",
       "3           3  357399  B001CJE4IC  A23TISZZ4Y937H                     1   \n",
       "4           4  154408  B00474GNY2  A2UGL97SELRWT9                     0   \n",
       "\n",
       "   HelpfulnessDenominator  Score        Time  \\\n",
       "0                       1      5  1321488000   \n",
       "1                       1      5  1343088000   \n",
       "2                       2      5  1342310400   \n",
       "3                       1      5  1282694400   \n",
       "4                       0      4  1316822400   \n",
       "\n",
       "                                    Summary  \\\n",
       "0  Tasty, healthy, and perfect for vegans ~   \n",
       "1                                 Authentic   \n",
       "2                  sweet nut and fruit gift   \n",
       "3                            Nice large box   \n",
       "4       Good Buddy Aloe and Oatmeal Shampoo   \n",
       "\n",
       "                                                Text  \\\n",
       "0  So despite this saying low-glycemic, it actual...   \n",
       "1  This is the real deal, not some cheap coffee p...   \n",
       "2  The item arrived as scheduled in excellent con...   \n",
       "3  This was for my mother who will only chew Chic...   \n",
       "4  My dog had problems with skin allergies for ye...   \n",
       "\n",
       "                                      SummartAndText  \n",
       "0  Tasty, healthy, and perfect for vegans ~So des...  \n",
       "1  AuthenticThis is the real deal, not some cheap...  \n",
       "2  sweet nut and fruit giftThe item arrived as sc...  \n",
       "3  Nice large boxThis was for my mother who will ...  \n",
       "4  Good Buddy Aloe and Oatmeal ShampooMy dog had ...  "
      ]
     },
     "execution_count": 122,
     "metadata": {},
     "output_type": "execute_result"
    }
   ],
   "source": [
    "reviews.head()"
   ]
  },
  {
   "attachments": {},
   "cell_type": "markdown",
   "metadata": {},
   "source": [
    "### Cool, let's see the value distribution of user rated scores (1 - 5 stars)"
   ]
  },
  {
   "cell_type": "code",
   "execution_count": 123,
   "metadata": {},
   "outputs": [
    {
     "data": {
      "text/plain": [
       "(array([ 2243.,  1271.,  1888.,  3521., 16077.]),\n",
       " array([0.5, 1.5, 2.5, 3.5, 4.5, 5.5]),\n",
       " <BarContainer object of 5 artists>)"
      ]
     },
     "execution_count": 123,
     "metadata": {},
     "output_type": "execute_result"
    },
    {
     "data": {
      "image/png": "[encoded data removed]",
      "text/plain": [
       "<Figure size 640x480 with 1 Axes>"
      ]
     },
     "metadata": {},
     "output_type": "display_data"
    }
   ],
   "source": [
    "plt.hist(reviews['Score'], bins=5, range=(0.5, 5.5), rwidth=0.7)"
   ]
  },
  {
   "attachments": {},
   "cell_type": "markdown",
   "metadata": {},
   "source": [
    "### More than just the subjective ratings given by a user, we also want to see how others value each user's comment. Thus, let's filter the dataset to keep the reviews that have useful/notuseful votes"
   ]
  },
  {
   "cell_type": "code",
   "execution_count": 124,
   "metadata": {},
   "outputs": [
    {
     "data": {
      "text/plain": [
       "(13222, 11)"
      ]
     },
     "execution_count": 124,
     "metadata": {},
     "output_type": "execute_result"
    }
   ],
   "source": [
    "useful_reviews = reviews.loc[reviews['HelpfulnessDenominator'] != 0]\n",
    "useful_reviews.shape"
   ]
  },
  {
   "cell_type": "code",
   "execution_count": 125,
   "metadata": {},
   "outputs": [
    {
     "name": "stderr",
     "output_type": "stream",
     "text": [
      "/var/folders/k2/7hr6hcfd5v58p9nhhf_brbbm0000gn/T/ipykernel_35777/2821050564.py:1: SettingWithCopyWarning: \n",
      "A value is trying to be set on a copy of a slice from a DataFrame.\n",
      "Try using .loc[row_indexer,col_indexer] = value instead\n",
      "\n",
      "See the caveats in the documentation: https://pandas.pydata.org/pandas-docs/stable/user_guide/indexing.html#returning-a-view-versus-a-copy\n",
      "  useful_reviews['HelpfulPortion'] = useful_reviews['HelpfulnessNumerator'] / useful_reviews['HelpfulnessDenominator']\n"
     ]
    },
    {
     "data": {
      "text/html": [
       "<div>\n",
       "<style scoped>\n",
       "    .dataframe tbody tr th:only-of-type {\n",
       "        vertical-align: middle;\n",
       "    }\n",
       "\n",
       "    .dataframe tbody tr th {\n",
       "        vertical-align: top;\n",
       "    }\n",
       "\n",
       "    .dataframe thead th {\n",
       "        text-align: right;\n",
       "    }\n",
       "</style>\n",
       "<table border=\"1\" class=\"dataframe\">\n",
       "  <thead>\n",
       "    <tr style=\"text-align: right;\">\n",
       "      <th></th>\n",
       "      <th>Unnamed: 0</th>\n",
       "      <th>Id</th>\n",
       "      <th>ProductId</th>\n",
       "      <th>UserId</th>\n",
       "      <th>HelpfulnessNumerator</th>\n",
       "      <th>HelpfulnessDenominator</th>\n",
       "      <th>Score</th>\n",
       "      <th>Time</th>\n",
       "      <th>Summary</th>\n",
       "      <th>Text</th>\n",
       "      <th>SummartAndText</th>\n",
       "      <th>HelpfulPortion</th>\n",
       "    </tr>\n",
       "  </thead>\n",
       "  <tbody>\n",
       "    <tr>\n",
       "      <th>0</th>\n",
       "      <td>0</td>\n",
       "      <td>321334</td>\n",
       "      <td>B008RWUHA6</td>\n",
       "      <td>A30JPZ9TZ7I61U</td>\n",
       "      <td>1</td>\n",
       "      <td>1</td>\n",
       "      <td>5</td>\n",
       "      <td>1321488000</td>\n",
       "      <td>Tasty, healthy, and perfect for vegans ~</td>\n",
       "      <td>So despite this saying low-glycemic, it actual...</td>\n",
       "      <td>Tasty, healthy, and perfect for vegans ~So des...</td>\n",
       "      <td>1.0</td>\n",
       "    </tr>\n",
       "    <tr>\n",
       "      <th>1</th>\n",
       "      <td>1</td>\n",
       "      <td>543019</td>\n",
       "      <td>B00897UVVE</td>\n",
       "      <td>A3HEGKD16C4WZS</td>\n",
       "      <td>1</td>\n",
       "      <td>1</td>\n",
       "      <td>5</td>\n",
       "      <td>1343088000</td>\n",
       "      <td>Authentic</td>\n",
       "      <td>This is the real deal, not some cheap coffee p...</td>\n",
       "      <td>AuthenticThis is the real deal, not some cheap...</td>\n",
       "      <td>1.0</td>\n",
       "    </tr>\n",
       "    <tr>\n",
       "      <th>2</th>\n",
       "      <td>2</td>\n",
       "      <td>299018</td>\n",
       "      <td>B004AUKLCI</td>\n",
       "      <td>A2QZUDPHCF6YRR</td>\n",
       "      <td>2</td>\n",
       "      <td>2</td>\n",
       "      <td>5</td>\n",
       "      <td>1342310400</td>\n",
       "      <td>sweet nut and fruit gift</td>\n",
       "      <td>The item arrived as scheduled in excellent con...</td>\n",
       "      <td>sweet nut and fruit giftThe item arrived as sc...</td>\n",
       "      <td>1.0</td>\n",
       "    </tr>\n",
       "    <tr>\n",
       "      <th>3</th>\n",
       "      <td>3</td>\n",
       "      <td>357399</td>\n",
       "      <td>B001CJE4IC</td>\n",
       "      <td>A23TISZZ4Y937H</td>\n",
       "      <td>1</td>\n",
       "      <td>1</td>\n",
       "      <td>5</td>\n",
       "      <td>1282694400</td>\n",
       "      <td>Nice large box</td>\n",
       "      <td>This was for my mother who will only chew Chic...</td>\n",
       "      <td>Nice large boxThis was for my mother who will ...</td>\n",
       "      <td>1.0</td>\n",
       "    </tr>\n",
       "    <tr>\n",
       "      <th>5</th>\n",
       "      <td>5</td>\n",
       "      <td>436554</td>\n",
       "      <td>B000CQ01JW</td>\n",
       "      <td>A3CC24EQUYSGGX</td>\n",
       "      <td>1</td>\n",
       "      <td>1</td>\n",
       "      <td>4</td>\n",
       "      <td>1240531200</td>\n",
       "      <td>Grandson loves it...</td>\n",
       "      <td>I got an order of this for myself, since it ha...</td>\n",
       "      <td>Grandson loves it...I got an order of this for...</td>\n",
       "      <td>1.0</td>\n",
       "    </tr>\n",
       "  </tbody>\n",
       "</table>\n",
       "</div>"
      ],
      "text/plain": [
       "   Unnamed: 0      Id   ProductId          UserId  HelpfulnessNumerator  \\\n",
       "0           0  321334  B008RWUHA6  A30JPZ9TZ7I61U                     1   \n",
       "1           1  543019  B00897UVVE  A3HEGKD16C4WZS                     1   \n",
       "2           2  299018  B004AUKLCI  A2QZUDPHCF6YRR                     2   \n",
       "3           3  357399  B001CJE4IC  A23TISZZ4Y937H                     1   \n",
       "5           5  436554  B000CQ01JW  A3CC24EQUYSGGX                     1   \n",
       "\n",
       "   HelpfulnessDenominator  Score        Time  \\\n",
       "0                       1      5  1321488000   \n",
       "1                       1      5  1343088000   \n",
       "2                       2      5  1342310400   \n",
       "3                       1      5  1282694400   \n",
       "5                       1      4  1240531200   \n",
       "\n",
       "                                    Summary  \\\n",
       "0  Tasty, healthy, and perfect for vegans ~   \n",
       "1                                 Authentic   \n",
       "2                  sweet nut and fruit gift   \n",
       "3                            Nice large box   \n",
       "5                      Grandson loves it...   \n",
       "\n",
       "                                                Text  \\\n",
       "0  So despite this saying low-glycemic, it actual...   \n",
       "1  This is the real deal, not some cheap coffee p...   \n",
       "2  The item arrived as scheduled in excellent con...   \n",
       "3  This was for my mother who will only chew Chic...   \n",
       "5  I got an order of this for myself, since it ha...   \n",
       "\n",
       "                                      SummartAndText  HelpfulPortion  \n",
       "0  Tasty, healthy, and perfect for vegans ~So des...             1.0  \n",
       "1  AuthenticThis is the real deal, not some cheap...             1.0  \n",
       "2  sweet nut and fruit giftThe item arrived as sc...             1.0  \n",
       "3  Nice large boxThis was for my mother who will ...             1.0  \n",
       "5  Grandson loves it...I got an order of this for...             1.0  "
      ]
     },
     "execution_count": 125,
     "metadata": {},
     "output_type": "execute_result"
    }
   ],
   "source": [
    "useful_reviews['HelpfulPortion'] = useful_reviews['HelpfulnessNumerator'] / useful_reviews['HelpfulnessDenominator']\n",
    "useful_reviews.head()"
   ]
  },
  {
   "cell_type": "code",
   "execution_count": 126,
   "metadata": {},
   "outputs": [
    {
     "data": {
      "text/plain": [
       "Text(0.5, 1.0, 'Useful votes vs. Total votes')"
      ]
     },
     "execution_count": 126,
     "metadata": {},
     "output_type": "execute_result"
    },
    {
     "data": {
      "image/png": "[encoded data removed]",
      "text/plain": [
       "<Figure size 800x800 with 1 Axes>"
      ]
     },
     "metadata": {},
     "output_type": "display_data"
    }
   ],
   "source": [
    "plt.figure(figsize=(8, 8))\n",
    "plt.scatter(useful_reviews['HelpfulnessDenominator'], useful_reviews['HelpfulnessNumerator'], c=['red' if x < 0.7 else 'blue' for x in useful_reviews['HelpfulPortion']])\n",
    "plt.ylabel('Useful votes for certain comments')\n",
    "plt.xlabel('Total number of votes for certain reviews')\n",
    "plt.title('Useful votes vs. Total votes')\n"
   ]
  },
  {
   "attachments": {},
   "cell_type": "markdown",
   "metadata": {},
   "source": [
    "We can see that most reviews that received votes have positive feedbacks, while some reviews have received less than 70% useful votes.\n",
    "\n",
    "Let's see the content of an example among the 'outlier' examples"
   ]
  },
  {
   "cell_type": "code",
   "execution_count": 127,
   "metadata": {},
   "outputs": [
    {
     "data": {
      "text/html": [
       "<div>\n",
       "<style scoped>\n",
       "    .dataframe tbody tr th:only-of-type {\n",
       "        vertical-align: middle;\n",
       "    }\n",
       "\n",
       "    .dataframe tbody tr th {\n",
       "        vertical-align: top;\n",
       "    }\n",
       "\n",
       "    .dataframe thead th {\n",
       "        text-align: right;\n",
       "    }\n",
       "</style>\n",
       "<table border=\"1\" class=\"dataframe\">\n",
       "  <thead>\n",
       "    <tr style=\"text-align: right;\">\n",
       "      <th></th>\n",
       "      <th>Unnamed: 0</th>\n",
       "      <th>Id</th>\n",
       "      <th>ProductId</th>\n",
       "      <th>UserId</th>\n",
       "      <th>HelpfulnessNumerator</th>\n",
       "      <th>HelpfulnessDenominator</th>\n",
       "      <th>Score</th>\n",
       "      <th>Time</th>\n",
       "      <th>Summary</th>\n",
       "      <th>Text</th>\n",
       "      <th>SummartAndText</th>\n",
       "      <th>HelpfulPortion</th>\n",
       "    </tr>\n",
       "  </thead>\n",
       "  <tbody>\n",
       "    <tr>\n",
       "      <th>186</th>\n",
       "      <td>186</td>\n",
       "      <td>308270</td>\n",
       "      <td>B0014EW4C8</td>\n",
       "      <td>A3BXJ8HDRB4LO3</td>\n",
       "      <td>2</td>\n",
       "      <td>18</td>\n",
       "      <td>1</td>\n",
       "      <td>1299369600</td>\n",
       "      <td>V8 is not vegetarian</td>\n",
       "      <td>Vegetarians and vegans need to avoid this prod...</td>\n",
       "      <td>V8 is not vegetarianVegetarians and vegans nee...</td>\n",
       "      <td>0.111111</td>\n",
       "    </tr>\n",
       "    <tr>\n",
       "      <th>1125</th>\n",
       "      <td>1125</td>\n",
       "      <td>166876</td>\n",
       "      <td>B000EUJK2K</td>\n",
       "      <td>AHYRTWABDAG1H</td>\n",
       "      <td>4</td>\n",
       "      <td>27</td>\n",
       "      <td>1</td>\n",
       "      <td>1303948800</td>\n",
       "      <td>Where is the flavor of the Rainforest</td>\n",
       "      <td>This is the third product by this company I ha...</td>\n",
       "      <td>Where is the flavor of the RainforestThis is t...</td>\n",
       "      <td>0.148148</td>\n",
       "    </tr>\n",
       "    <tr>\n",
       "      <th>2761</th>\n",
       "      <td>2761</td>\n",
       "      <td>355175</td>\n",
       "      <td>B001E7654S</td>\n",
       "      <td>A2BAZCK92OWY3T</td>\n",
       "      <td>3</td>\n",
       "      <td>23</td>\n",
       "      <td>2</td>\n",
       "      <td>1170806400</td>\n",
       "      <td>Blarhhhh</td>\n",
       "      <td>Kellogg's has gone off the deep end, and so ha...</td>\n",
       "      <td>BlarhhhhKellogg's has gone off the deep end, a...</td>\n",
       "      <td>0.130435</td>\n",
       "    </tr>\n",
       "    <tr>\n",
       "      <th>3030</th>\n",
       "      <td>3030</td>\n",
       "      <td>463740</td>\n",
       "      <td>B000GA94I8</td>\n",
       "      <td>ASQ7OEET37OZQ</td>\n",
       "      <td>0</td>\n",
       "      <td>19</td>\n",
       "      <td>4</td>\n",
       "      <td>1202428800</td>\n",
       "      <td>Nothing that can't be fixed.</td>\n",
       "      <td>Perhaps it's because I live in northern Canada...</td>\n",
       "      <td>Nothing that can't be fixed.Perhaps it's becau...</td>\n",
       "      <td>0.000000</td>\n",
       "    </tr>\n",
       "    <tr>\n",
       "      <th>3244</th>\n",
       "      <td>3244</td>\n",
       "      <td>549828</td>\n",
       "      <td>B004779XNW</td>\n",
       "      <td>A1W66FBLS1VXTE</td>\n",
       "      <td>0</td>\n",
       "      <td>17</td>\n",
       "      <td>1</td>\n",
       "      <td>1258934400</td>\n",
       "      <td>HOW many cups of coffee are included?</td>\n",
       "      <td>Okay..so there are 24 in a box X 2 boxes...and...</td>\n",
       "      <td>HOW many cups of coffee are included?Okay..so ...</td>\n",
       "      <td>0.000000</td>\n",
       "    </tr>\n",
       "    <tr>\n",
       "      <th>...</th>\n",
       "      <td>...</td>\n",
       "      <td>...</td>\n",
       "      <td>...</td>\n",
       "      <td>...</td>\n",
       "      <td>...</td>\n",
       "      <td>...</td>\n",
       "      <td>...</td>\n",
       "      <td>...</td>\n",
       "      <td>...</td>\n",
       "      <td>...</td>\n",
       "      <td>...</td>\n",
       "      <td>...</td>\n",
       "    </tr>\n",
       "    <tr>\n",
       "      <th>23549</th>\n",
       "      <td>23549</td>\n",
       "      <td>189856</td>\n",
       "      <td>B001EO5Q64</td>\n",
       "      <td>AHJ18H704GL4Q</td>\n",
       "      <td>8</td>\n",
       "      <td>37</td>\n",
       "      <td>1</td>\n",
       "      <td>1312329600</td>\n",
       "      <td>Waste of my money.</td>\n",
       "      <td>The Nutiva coconut oil was not moisturizing, w...</td>\n",
       "      <td>Waste of my money.The Nutiva coconut oil was n...</td>\n",
       "      <td>0.216216</td>\n",
       "    </tr>\n",
       "    <tr>\n",
       "      <th>23685</th>\n",
       "      <td>23685</td>\n",
       "      <td>232218</td>\n",
       "      <td>B0002YB40O</td>\n",
       "      <td>AI7RXVZ0KRS3I</td>\n",
       "      <td>2</td>\n",
       "      <td>18</td>\n",
       "      <td>5</td>\n",
       "      <td>1200960000</td>\n",
       "      <td>a bit of chinese flavor</td>\n",
       "      <td>product is great,brings a bit of chinese flavo...</td>\n",
       "      <td>a bit of chinese flavorproduct is great,brings...</td>\n",
       "      <td>0.111111</td>\n",
       "    </tr>\n",
       "    <tr>\n",
       "      <th>23742</th>\n",
       "      <td>23742</td>\n",
       "      <td>312555</td>\n",
       "      <td>B002T0NXK8</td>\n",
       "      <td>A2N5YX7DLGPG3K</td>\n",
       "      <td>0</td>\n",
       "      <td>17</td>\n",
       "      <td>5</td>\n",
       "      <td>1215734400</td>\n",
       "      <td>Oh, Yes....</td>\n",
       "      <td>There are so many beverages that people can dr...</td>\n",
       "      <td>Oh, Yes....There are so many beverages that pe...</td>\n",
       "      <td>0.000000</td>\n",
       "    </tr>\n",
       "    <tr>\n",
       "      <th>24160</th>\n",
       "      <td>24160</td>\n",
       "      <td>446755</td>\n",
       "      <td>B0009F3QL6</td>\n",
       "      <td>A24WZWL84L02HC</td>\n",
       "      <td>1</td>\n",
       "      <td>21</td>\n",
       "      <td>1</td>\n",
       "      <td>1287878400</td>\n",
       "      <td>TERRIBLE:</td>\n",
       "      <td>I HATE THIS TEA, I LOVE LICORICE, BUT I HATE T...</td>\n",
       "      <td>TERRIBLE:I HATE THIS TEA, I LOVE LICORICE, BUT...</td>\n",
       "      <td>0.047619</td>\n",
       "    </tr>\n",
       "    <tr>\n",
       "      <th>24265</th>\n",
       "      <td>24265</td>\n",
       "      <td>483403</td>\n",
       "      <td>B0006Z7NOK</td>\n",
       "      <td>APPRHDIU1IGWK</td>\n",
       "      <td>2</td>\n",
       "      <td>39</td>\n",
       "      <td>1</td>\n",
       "      <td>1298332800</td>\n",
       "      <td>didn't receive item</td>\n",
       "      <td>I never received the item.  It was in my area ...</td>\n",
       "      <td>didn't receive itemI never received the item. ...</td>\n",
       "      <td>0.051282</td>\n",
       "    </tr>\n",
       "  </tbody>\n",
       "</table>\n",
       "<p>71 rows × 12 columns</p>\n",
       "</div>"
      ],
      "text/plain": [
       "       Unnamed: 0      Id   ProductId          UserId  HelpfulnessNumerator  \\\n",
       "186           186  308270  B0014EW4C8  A3BXJ8HDRB4LO3                     2   \n",
       "1125         1125  166876  B000EUJK2K   AHYRTWABDAG1H                     4   \n",
       "2761         2761  355175  B001E7654S  A2BAZCK92OWY3T                     3   \n",
       "3030         3030  463740  B000GA94I8   ASQ7OEET37OZQ                     0   \n",
       "3244         3244  549828  B004779XNW  A1W66FBLS1VXTE                     0   \n",
       "...           ...     ...         ...             ...                   ...   \n",
       "23549       23549  189856  B001EO5Q64   AHJ18H704GL4Q                     8   \n",
       "23685       23685  232218  B0002YB40O   AI7RXVZ0KRS3I                     2   \n",
       "23742       23742  312555  B002T0NXK8  A2N5YX7DLGPG3K                     0   \n",
       "24160       24160  446755  B0009F3QL6  A24WZWL84L02HC                     1   \n",
       "24265       24265  483403  B0006Z7NOK   APPRHDIU1IGWK                     2   \n",
       "\n",
       "       HelpfulnessDenominator  Score        Time  \\\n",
       "186                        18      1  1299369600   \n",
       "1125                       27      1  1303948800   \n",
       "2761                       23      2  1170806400   \n",
       "3030                       19      4  1202428800   \n",
       "3244                       17      1  1258934400   \n",
       "...                       ...    ...         ...   \n",
       "23549                      37      1  1312329600   \n",
       "23685                      18      5  1200960000   \n",
       "23742                      17      5  1215734400   \n",
       "24160                      21      1  1287878400   \n",
       "24265                      39      1  1298332800   \n",
       "\n",
       "                                     Summary  \\\n",
       "186                     V8 is not vegetarian   \n",
       "1125   Where is the flavor of the Rainforest   \n",
       "2761                                Blarhhhh   \n",
       "3030            Nothing that can't be fixed.   \n",
       "3244   HOW many cups of coffee are included?   \n",
       "...                                      ...   \n",
       "23549                     Waste of my money.   \n",
       "23685                a bit of chinese flavor   \n",
       "23742                            Oh, Yes....   \n",
       "24160                              TERRIBLE:   \n",
       "24265                    didn't receive item   \n",
       "\n",
       "                                                    Text  \\\n",
       "186    Vegetarians and vegans need to avoid this prod...   \n",
       "1125   This is the third product by this company I ha...   \n",
       "2761   Kellogg's has gone off the deep end, and so ha...   \n",
       "3030   Perhaps it's because I live in northern Canada...   \n",
       "3244   Okay..so there are 24 in a box X 2 boxes...and...   \n",
       "...                                                  ...   \n",
       "23549  The Nutiva coconut oil was not moisturizing, w...   \n",
       "23685  product is great,brings a bit of chinese flavo...   \n",
       "23742  There are so many beverages that people can dr...   \n",
       "24160  I HATE THIS TEA, I LOVE LICORICE, BUT I HATE T...   \n",
       "24265  I never received the item.  It was in my area ...   \n",
       "\n",
       "                                          SummartAndText  HelpfulPortion  \n",
       "186    V8 is not vegetarianVegetarians and vegans nee...        0.111111  \n",
       "1125   Where is the flavor of the RainforestThis is t...        0.148148  \n",
       "2761   BlarhhhhKellogg's has gone off the deep end, a...        0.130435  \n",
       "3030   Nothing that can't be fixed.Perhaps it's becau...        0.000000  \n",
       "3244   HOW many cups of coffee are included?Okay..so ...        0.000000  \n",
       "...                                                  ...             ...  \n",
       "23549  Waste of my money.The Nutiva coconut oil was n...        0.216216  \n",
       "23685  a bit of chinese flavorproduct is great,brings...        0.111111  \n",
       "23742  Oh, Yes....There are so many beverages that pe...        0.000000  \n",
       "24160  TERRIBLE:I HATE THIS TEA, I LOVE LICORICE, BUT...        0.047619  \n",
       "24265  didn't receive itemI never received the item. ...        0.051282  \n",
       "\n",
       "[71 rows x 12 columns]"
      ]
     },
     "execution_count": 127,
     "metadata": {},
     "output_type": "execute_result"
    }
   ],
   "source": [
    "not_useful_reviews = useful_reviews.loc[(useful_reviews['HelpfulPortion'] < 0.3) & (useful_reviews['HelpfulnessDenominator'] > 15.0)]\n",
    "not_useful_reviews"
   ]
  },
  {
   "cell_type": "code",
   "execution_count": 131,
   "metadata": {},
   "outputs": [
    {
     "name": "stdout",
     "output_type": "stream",
     "text": [
      "Total votes: 17, useful votes: 0\n",
      "['HOW many cups of coffee are included?']\n",
      "[\"Okay..so there are 24 in a box X 2 boxes...and that equals 25 servings?  Which then only equals 14 total ounces?<br />I can't buy this product without knowing exactly how much coffee I'm paying for.\"]\n"
     ]
    }
   ],
   "source": [
    "example1 = not_useful_reviews.loc[not_useful_reviews['UserId'] == 'A1W66FBLS1VXTE']\n",
    "print('Total votes: {}, useful votes: {}'.format(example1['HelpfulnessDenominator'].values[0], example1['HelpfulnessNumerator'].values[0]))\n",
    "print(example1['Summary'].values)\n",
    "print(example1['Text'].values)"
   ]
  },
  {
   "cell_type": "code",
   "execution_count": 129,
   "metadata": {},
   "outputs": [
    {
     "name": "stdout",
     "output_type": "stream",
     "text": [
      "Total votes: 21, useful votes: 1\n",
      "['TERRIBLE:']\n",
      "['I HATE THIS TEA, I LOVE LICORICE, BUT I HATE THIS TEA, IT IS TERRIBLE, THE SMELL AND THE TASTE.  I HATE IT, I RATE THIS TEA A ZERO!  YUCK!!!']\n"
     ]
    }
   ],
   "source": [
    "example2 = not_useful_reviews.loc[not_useful_reviews['UserId'] == 'A24WZWL84L02HC']\n",
    "print('Total votes: {}, useful votes: {}'.format(example2['HelpfulnessDenominator'].values[0], example2['HelpfulnessNumerator'].values[0]))\n",
    "print(example2['Summary'].values)\n",
    "print(example2['Text'].values)"
   ]
  },
  {
   "attachments": {},
   "cell_type": "markdown",
   "metadata": {},
   "source": [
    "### What about the relationship between score and usefulness? Let's try a scatterplot again"
   ]
  },
  {
   "cell_type": "code",
   "execution_count": 132,
   "metadata": {},
   "outputs": [
    {
     "data": {
      "text/plain": [
       "Text(0.5, 1.0, 'Useful votes vs. Total votes')"
      ]
     },
     "execution_count": 132,
     "metadata": {},
     "output_type": "execute_result"
    },
    {
     "data": {
      "image/png": "[encoded data removed]",
      "text/plain": [
       "<Figure size 1600x800 with 1 Axes>"
      ]
     },
     "metadata": {},
     "output_type": "display_data"
    }
   ],
   "source": [
    "plt.figure(figsize=(16, 8))\n",
    "plt.scatter(useful_reviews['HelpfulPortion'], useful_reviews['Score'], c=['red' if x < 0.5 else 'blue' for x in useful_reviews['HelpfulPortion']])\n",
    "plt.xlabel('review\\'s helpfulness')\n",
    "plt.ylabel('Review score given by user')\n",
    "plt.xlim((-0.02, 1.02))\n",
    "plt.title('Useful votes vs. Total votes')\n"
   ]
  },
  {
   "attachments": {},
   "cell_type": "markdown",
   "metadata": {},
   "source": [
    "For user scores above 2, it seems like more people would vote 'useful' for that vote. For reviews that gave only score value of 1, the portion of other users who thinks this negative review is not useful increases a lot."
   ]
  }
 ],
 "metadata": {
  "kernelspec": {
   "display_name": "comp7103",
   "language": "python",
   "name": "python3"
  },
  "language_info": {
   "codemirror_mode": {
    "name": "ipython",
    "version": 3
   },
   "file_extension": ".py",
   "mimetype": "text/x-python",
   "name": "python",
   "nbconvert_exporter": "python",
   "pygments_lexer": "ipython3",
   "version": "3.9.16"
  },
  "orig_nbformat": 4
 },
 "nbformat": 4,
 "nbformat_minor": 2
}
